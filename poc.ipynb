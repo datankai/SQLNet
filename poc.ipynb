{
 "cells": [
  {
   "cell_type": "code",
   "execution_count": 1,
   "metadata": {},
   "outputs": [],
   "source": [
    "from test import *"
   ]
  },
  {
   "cell_type": "code",
   "execution_count": 2,
   "metadata": {},
   "outputs": [],
   "source": [
    "# Constants\n",
    "N_word = 300\n",
    "B_word = 42\n",
    "USE_SMALL = True\n",
    "GPU = True\n",
    "BATCH_SIZE = 15\n",
    "TRAIN_AGG = TRAIN_SEL = TRAIN_COND = True\n",
    "TRAIN_ENTRY = (TRAIN_AGG, TRAIN_SEL, TRAIN_COND)\n",
    "learning_rate = 1e-3"
   ]
  },
  {
   "cell_type": "code",
   "execution_count": 3,
   "metadata": {},
   "outputs": [
    {
     "name": "stdout",
     "output_type": "stream",
     "text": [
      "Loading from original dataset\n",
      "Loading data from data/train_tok.jsonl\n",
      "Loading data from data/train_tok.tables.jsonl\n",
      "Loading data from data/dev_tok.jsonl\n",
      "Loading data from data/dev_tok.tables.jsonl\n",
      "Loading data from data/test_tok.jsonl\n",
      "Loading data from data/test_tok.tables.jsonl\n",
      "Load used word embedding\n"
     ]
    }
   ],
   "source": [
    "sql_data, table_data, val_sql_data, val_table_data, test_sql_data, test_table_data, TRAIN_DB, DEV_DB, TEST_DB = load_dataset(0, use_small=USE_SMALL)\n",
    "word_emb = load_word_emb('glove/glove.%dB.%dd.txt'%(B_word,N_word), load_used=True, use_small=USE_SMALL)"
   ]
  },
  {
   "cell_type": "code",
   "execution_count": 4,
   "metadata": {},
   "outputs": [
    {
     "name": "stdout",
     "output_type": "stream",
     "text": [
      "Using trainable embedding\n",
      "Using trainable embedding\n",
      "Using trainable embedding\n",
      "Using column attention on aggregator predicting\n",
      "Using column attention on selection predicting\n",
      "Using column attention on where predicting\n",
      "Loading from saved_model/agg.agg_model\n",
      "Loading from saved_model/sel.sel_model\n",
      "Loading from saved_model/cond.cond_model\n"
     ]
    }
   ],
   "source": [
    "model = SQLNet(word_emb, N_word=N_word, use_ca=True, gpu=GPU, trainable_emb = True)\n",
    "agg_m = 'saved_model/agg.agg_model'\n",
    "sel_m = 'saved_model/sel.sel_model'\n",
    "cond_m = 'saved_model/cond.cond_model'\n",
    "print \"Loading from %s\"%agg_m\n",
    "model.agg_pred.load_state_dict(torch.load(agg_m))\n",
    "print \"Loading from %s\"%sel_m\n",
    "model.sel_pred.load_state_dict(torch.load(sel_m))\n",
    "print \"Loading from %s\"%cond_m\n",
    "model.cond_pred.load_state_dict(torch.load(cond_m))"
   ]
  },
  {
   "cell_type": "code",
   "execution_count": 10,
   "metadata": {},
   "outputs": [],
   "source": [
    "perm = list(range(len(test_sql_data)))\n",
    "dummy_res = to_batch_seq(test_sql_data, test_table_data, perm, 0, 1, ret_vis_data=True)\n",
    "dummy_query = test_sql_data[0]"
   ]
  },
  {
   "cell_type": "code",
   "execution_count": 11,
   "metadata": {},
   "outputs": [],
   "source": [
    "def query_to_seq(query, data):\n",
    "    conds = query[\"sql\"][\"conds\"]\n",
    "    \n",
    "    q_seq = [query[\"question_tok\"], dummy_res[0][0]]\n",
    "    col_seq = [data[\"header_tok\"], dummy_res[1][0]]\n",
    "    col_num = [len(data[\"header\"]), dummy_res[2][0]]\n",
    "    ans_seq = [(query[\"sql\"][\"agg\"], query[\"sql\"][\"sel\"], len(conds), tuple(x[0] for x in conds), tuple(x[1] for x in conds)), dummy_res[3][0]]\n",
    "    query_seq = [query[\"query_tok\"], dummy_res[4][0]]\n",
    "    gt_cond_seq = [query[\"sql\"][\"conds\"], dummy_res[5][0]]\n",
    "    vis_seq = [(query[\"question\"], data[\"header\"], query[\"query\"]), dummy_res[6][0]]\n",
    "    \n",
    "    return q_seq, col_seq, col_num, ans_seq, query_seq, gt_cond_seq, vis_seq\n",
    "\n",
    "\n",
    "def query_to_batch(query):\n",
    "    query_gt = [query[\"sql\"], dummy_query[\"sql\"]]\n",
    "    table_ids = [query[\"table_id\"], dummy_query[\"table_id\"]]\n",
    "    return query_gt, table_ids"
   ]
  },
  {
   "cell_type": "code",
   "execution_count": 37,
   "metadata": {},
   "outputs": [],
   "source": [
    "pred_entry = (True, True, True)\n",
    "model.eval()\n",
    "\n",
    "agg_funcs = [None, \"max\", \"min\", \"count\"]\n",
    "ops = [\"=\", \">\", \"<\"]\n",
    "def pred(model, query, data):\n",
    "    q_seq, col_seq, col_num, ans_seq, query_seq, gt_cond_seq, raw_data = query_to_seq(query, data)\n",
    "    raw_q_seq = [x[0] for x in raw_data]\n",
    "    raw_col_seq = [x[1] for x in raw_data]\n",
    "    gt_sel_seq = [x[1] for x in ans_seq]\n",
    "    score = model.forward(q_seq, col_seq, col_num, pred_entry, gt_sel = gt_sel_seq)\n",
    "    pred_queries = model.gen_query(score, q_seq, col_seq, raw_q_seq, raw_col_seq, pred_entry, verbose=True)\n",
    "    pred_q = pred_queries[0]\n",
    "    pred_q[\"agg\"] = agg_funcs[pred_q[\"agg\"]]\n",
    "    pred_q[\"sel\"] = data[\"header\"][pred_q[\"sel\"]]\n",
    "    for cond in pred_q[\"conds\"]:\n",
    "        cond[0] = data[\"header\"][cond[0]]\n",
    "        cond[1] = ops[cond[1]]\n",
    "    return pred_q\n",
    "\n",
    "\n"
   ]
  },
  {
   "cell_type": "code",
   "execution_count": 38,
   "metadata": {},
   "outputs": [
    {
     "name": "stdout",
     "output_type": "stream",
     "text": [
      "List the # for ships commissioned on december 18, 1965.\n"
     ]
    },
    {
     "data": {
      "text/plain": [
       "{'agg': 'count',\n",
       " 'conds': [[u'Status', '=', u'december 18, 1965']],\n",
       " 'sel': u'#'}"
      ]
     },
     "execution_count": 38,
     "metadata": {},
     "output_type": "execute_result"
    }
   ],
   "source": [
    "# Test with existing data\n",
    "idx = 15\n",
    "q = test_sql_data[idx]\n",
    "print(q[\"question\"])\n",
    "data = test_table_data[q[\"table_id\"]]\n",
    "pred(model, q, data)"
   ]
  },
  {
   "cell_type": "code",
   "execution_count": 34,
   "metadata": {},
   "outputs": [
    {
     "data": {
      "text/plain": [
       "{u'phase': 1,\n",
       " u'query': u'SELECT # WHERE commissioned EQL december 18, 1965',\n",
       " u'query_tok': [u'SELECT',\n",
       "  u'#',\n",
       "  u'WHERE',\n",
       "  u'commissioned',\n",
       "  u'EQL',\n",
       "  u'december',\n",
       "  u'18',\n",
       "  u',',\n",
       "  u'1965'],\n",
       " u'query_tok_space': [u' ', u' ', u' ', u' ', u' ', u' ', u'', u' ', u''],\n",
       " u'question': u'List the # for ships commissioned on december 18, 1965.',\n",
       " u'question_tok': [u'list',\n",
       "  u'the',\n",
       "  u'#',\n",
       "  u'for',\n",
       "  u'ships',\n",
       "  u'commissioned',\n",
       "  u'on',\n",
       "  u'december',\n",
       "  u'18',\n",
       "  u',',\n",
       "  u'1965',\n",
       "  u'.'],\n",
       " u'question_tok_space': [u' ',\n",
       "  u' ',\n",
       "  u' ',\n",
       "  u' ',\n",
       "  u' ',\n",
       "  u' ',\n",
       "  u' ',\n",
       "  u' ',\n",
       "  u'',\n",
       "  u' ',\n",
       "  u'',\n",
       "  u''],\n",
       " u'sql': {u'agg': 0, u'conds': [[4, 0, u'December 18, 1965']], u'sel': 0},\n",
       " u'table_id': u'1-1014206-2'}"
      ]
     },
     "execution_count": 34,
     "metadata": {},
     "output_type": "execute_result"
    }
   ],
   "source": [
    "q"
   ]
  },
  {
   "cell_type": "code",
   "execution_count": null,
   "metadata": {},
   "outputs": [],
   "source": []
  }
 ],
 "metadata": {
  "kernelspec": {
   "display_name": "Python 2",
   "language": "python",
   "name": "python2"
  },
  "language_info": {
   "codemirror_mode": {
    "name": "ipython",
    "version": 2
   },
   "file_extension": ".py",
   "mimetype": "text/x-python",
   "name": "python",
   "nbconvert_exporter": "python",
   "pygments_lexer": "ipython2",
   "version": "2.7.15"
  }
 },
 "nbformat": 4,
 "nbformat_minor": 2
}
